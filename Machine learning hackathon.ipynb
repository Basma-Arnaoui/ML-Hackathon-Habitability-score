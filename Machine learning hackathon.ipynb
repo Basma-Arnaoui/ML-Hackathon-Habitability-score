{
 "cells": [
  {
   "cell_type": "markdown",
   "id": "d46c68f0",
   "metadata": {},
   "source": [
    "### IMPORTING THE LIBRARIES NEEDED:\n"
   ]
  },
  {
   "cell_type": "code",
   "execution_count": 14,
   "id": "c987467f",
   "metadata": {},
   "outputs": [],
   "source": [
    "import pandas as pd\n",
    "import numpy as np\n",
    "import warnings\n",
    "warnings.filterwarnings('ignore')\n",
    "from sklearn.model_selection import train_test_split\n",
    "from sklearn.metrics import r2_score\n",
    "import matplotlib.pyplot as plt\n",
    "from sklearn.preprocessing import OneHotEncoder\n",
    "from sklearn.ensemble import RandomForestRegressor\n"
   ]
  },
  {
   "cell_type": "markdown",
   "id": "d99a8549",
   "metadata": {},
   "source": [
    "### READING THE DATASET"
   ]
  },
  {
   "cell_type": "code",
   "execution_count": 6,
   "id": "e2558cba",
   "metadata": {},
   "outputs": [],
   "source": [
    "df = pd.read_csv ('Train Hackathon.csv')"
   ]
  },
  {
   "cell_type": "markdown",
   "id": "c547bf5d",
   "metadata": {},
   "source": [
    "### One hot encoding certain columns"
   ]
  },
  {
   "cell_type": "code",
   "execution_count": 8,
   "id": "4af040ce",
   "metadata": {},
   "outputs": [],
   "source": [
    "enc = OneHotEncoder(handle_unknown='ignore')\n",
    "enc_df = pd.DataFrame(enc.fit_transform\n",
    "                      (df[['Property_Type',\"Furnishing\",\"Water_Supply\",\n",
    "                           \"Crime_Rate\",\"Dust_and_Noise\",\"Power_Backup\"]]).toarray())\n",
    "\n",
    "df = df.join(enc_df)"
   ]
  },
  {
   "cell_type": "markdown",
   "id": "0fcd6977",
   "metadata": {},
   "source": [
    "### Deleting columns with a low correlation to the target variable"
   ]
  },
  {
   "cell_type": "code",
   "execution_count": null,
   "id": "ec453a5c",
   "metadata": {},
   "outputs": [],
   "source": [
    "del df[\"Air_Quality_Index\"]\n",
    "del df[\"Traffic_Density_Score\"]\n",
    "del df[\"Frequency_of_Powercuts\"]"
   ]
  },
  {
   "cell_type": "markdown",
   "id": "2bed10bf",
   "metadata": {},
   "source": [
    "### Creating new columns based off of their high correlation"
   ]
  },
  {
   "cell_type": "code",
   "execution_count": 9,
   "id": "bccc941f",
   "metadata": {},
   "outputs": [],
   "source": [
    "df[\"window door\"] = df[\"Number_of_Doors\"]+df[\"Number_of_Windows\"]\n",
    "del df[\"Number_of_Windows\"]\n",
    "del df[\"Number_of_Doors\"]\n",
    "a = df.pop(\"window door\")\n",
    "df.insert(5, \"window door\", a)\n",
    "\n",
    "#DROPPING NULL VALUES\n",
    "\n",
    "df = df.dropna()"
   ]
  },
  {
   "cell_type": "markdown",
   "id": "0a876d81",
   "metadata": {},
   "source": [
    "### DROPPING COLUMNS NO LONGER USED"
   ]
  },
  {
   "cell_type": "code",
   "execution_count": 10,
   "id": "568bb230",
   "metadata": {},
   "outputs": [],
   "source": [
    "df. drop(\"Property_Type\", axis=1, inplace=True)\n",
    "df. drop(\"Furnishing\", axis=1, inplace=True)\n",
    "df. drop(\"Water_Supply\", axis=1, inplace=True)\n",
    "df. drop(\"Crime_Rate\", axis=1, inplace=True)\n",
    "df. drop(\"Dust_and_Noise\", axis=1, inplace=True)\n",
    "df. drop(\"Power_Backup\", axis=1, inplace=True)\n",
    "column_to_move = df.pop(\"Habitability_score\")\n",
    "df.insert(31, \"Habitability_score\", column_to_move)"
   ]
  },
  {
   "cell_type": "markdown",
   "id": "94c84ea2",
   "metadata": {},
   "source": [
    "### DEFINING THE FEATURES AND TARGET AND SPLITTING THE DATASET"
   ]
  },
  {
   "cell_type": "code",
   "execution_count": 12,
   "id": "081c0239",
   "metadata": {},
   "outputs": [],
   "source": [
    "X = df.iloc[:,1:31]\n",
    "y = df[\"Habitability_score\"]\n",
    "X_train, X_test, y_train, y_test = train_test_split(X, y, test_size=0.2, random_state=0)"
   ]
  },
  {
   "cell_type": "markdown",
   "id": "d01a3b7a",
   "metadata": {},
   "source": [
    "### CREATING A REGRESSOR OBJECT"
   ]
  },
  {
   "cell_type": "code",
   "execution_count": 15,
   "id": "6d3df9a9",
   "metadata": {},
   "outputs": [],
   "source": [
    "regressor = RandomForestRegressor(n_estimators = 3000,\n",
    "                                  random_state = 0,warm_start = True,\n",
    "                                  max_depth = 14, n_jobs = -1,oob_score = True,\n",
    "                                  min_samples_split = 5)\n"
   ]
  },
  {
   "cell_type": "markdown",
   "id": "e9041a5e",
   "metadata": {},
   "source": [
    "### FITTING AND PREDICTING THE VALIDATION DATASET"
   ]
  },
  {
   "cell_type": "code",
   "execution_count": null,
   "id": "828b7f48",
   "metadata": {},
   "outputs": [],
   "source": [
    "regressor.fit(X_train, y_train)\n",
    "y_pred = regressor.predict(X_test)\n",
    "score = max( 0, 100*(metrics.r2_score(y_test , y_pred)))\n",
    "score"
   ]
  },
  {
   "cell_type": "code",
   "execution_count": null,
   "id": "699ab0ce",
   "metadata": {},
   "outputs": [],
   "source": []
  }
 ],
 "metadata": {
  "kernelspec": {
   "display_name": "Python 3 (ipykernel)",
   "language": "python",
   "name": "python3"
  },
  "language_info": {
   "codemirror_mode": {
    "name": "ipython",
    "version": 3
   },
   "file_extension": ".py",
   "mimetype": "text/x-python",
   "name": "python",
   "nbconvert_exporter": "python",
   "pygments_lexer": "ipython3",
   "version": "3.9.12"
  }
 },
 "nbformat": 4,
 "nbformat_minor": 5
}
